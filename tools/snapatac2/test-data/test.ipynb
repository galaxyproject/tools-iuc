{
 "cells": [
  {
   "cell_type": "code",
   "execution_count": 1,
   "id": "ce541c8a-7fc7-42cb-b646-02750679f333",
   "metadata": {},
   "outputs": [
    {
     "data": {
      "text/plain": [
       "'2.5.3'"
      ]
     },
     "execution_count": 1,
     "metadata": {},
     "output_type": "execute_result"
    }
   ],
   "source": [
    "import snapatac2 as snap\n",
    "\n",
    "snap.__version__"
   ]
  },
  {
   "cell_type": "code",
   "execution_count": 8,
   "id": "d5014cad-62c7-4770-9662-7f2940cad840",
   "metadata": {},
   "outputs": [],
   "source": [
    "data = snap.read(\"pp.make_gene_matrix.pbmc_500_chr21.h5ad\")"
   ]
  },
  {
   "cell_type": "code",
   "execution_count": 5,
   "id": "5c545cae-1223-4b3c-bd49-422cff88cf60",
   "metadata": {},
   "outputs": [
    {
     "data": {
      "text/plain": [
       "AxisArrays (row) with keys: X_spectral, fragment_paired, X_umap"
      ]
     },
     "execution_count": 5,
     "metadata": {},
     "output_type": "execute_result"
    }
   ],
   "source": [
    "data.obsm"
   ]
  },
  {
   "cell_type": "code",
   "execution_count": 9,
   "id": "00225479-ec27-4d65-8b13-847532a592b5",
   "metadata": {},
   "outputs": [
    {
     "data": {
      "text/plain": [
       "AnnData object with n_obs x n_vars = 158 x 884 backed at 'pp.make_gene_matrix.pbmc_500_chr21.h5ad'\n",
       "    obs: 'n_fragment', 'frac_dup', 'frac_mito', 'tsse', 'doublet_probability', 'doublet_score', 'leiden'"
      ]
     },
     "execution_count": 9,
     "metadata": {},
     "output_type": "execute_result"
    }
   ],
   "source": [
    "data"
   ]
  },
  {
   "cell_type": "code",
   "execution_count": 10,
   "id": "a0a81ae9-5b81-4a72-bbdd-df260938b8a2",
   "metadata": {},
   "outputs": [
    {
     "data": {
      "text/plain": [
       "Closed AnnData object"
      ]
     },
     "execution_count": 10,
     "metadata": {},
     "output_type": "execute_result"
    }
   ],
   "source": [
    "data.close()\n",
    "data"
   ]
  },
  {
   "cell_type": "code",
   "execution_count": 4,
   "id": "c99843d4-ccba-408f-b8ce-8fb50010dd06",
   "metadata": {},
   "outputs": [
    {
     "name": "stderr",
     "output_type": "stream",
     "text": [
      "/home/yannick/anaconda3/envs/snap/lib/python3.10/site-packages/tqdm/auto.py:21: TqdmWarning: IProgress not found. Please update jupyter and ipywidgets. See https://ipywidgets.readthedocs.io/en/stable/user_install.html\n",
      "  from .autonotebook import tqdm as notebook_tqdm\n",
      "/home/yannick/anaconda3/envs/snap/lib/python3.10/site-packages/umap/umap_.py:1943: UserWarning: n_jobs value -1 overridden to 1 by setting random_state. Use no seed for parallelism.\n",
      "  warn(f\"n_jobs value {self.n_jobs} overridden to 1 by setting random_state. Use no seed for parallelism.\")\n"
     ]
    },
    {
     "name": "stdout",
     "output_type": "stream",
     "text": [
      "CPU times: user 18 s, sys: 168 ms, total: 18.2 s\n",
      "Wall time: 18.2 s\n"
     ]
    },
    {
     "data": {
      "text/plain": [
       "AnnData object with n_obs x n_vars = 158 x 93420 backed at 'tl.spectral.pbmc_500_chr21.h5ad'\n",
       "    obs: 'n_fragment', 'frac_dup', 'frac_mito', 'tsse', 'doublet_probability', 'doublet_score'\n",
       "    var: 'count', 'selected'\n",
       "    uns: 'scrublet_sim_doublet_score', 'doublet_rate', 'spectral_eigenvalue', 'reference_sequences'\n",
       "    obsm: 'X_spectral', 'fragment_paired', 'X_umap'"
      ]
     },
     "execution_count": 4,
     "metadata": {},
     "output_type": "execute_result"
    }
   ],
   "source": [
    "%%time\n",
    "snap.tl.umap(data)\n",
    "data"
   ]
  },
  {
   "cell_type": "code",
   "execution_count": 5,
   "id": "78b2733a-b55e-4fb2-8197-c959f8898e29",
   "metadata": {},
   "outputs": [
    {
     "data": {
      "text/plain": [
       "Closed AnnData object"
      ]
     },
     "execution_count": 5,
     "metadata": {},
     "output_type": "execute_result"
    }
   ],
   "source": [
    "data.close()\n",
    "data"
   ]
  },
  {
   "cell_type": "code",
   "execution_count": null,
   "id": "8dad393c-493e-44ea-bcaa-cf13770f93b6",
   "metadata": {},
   "outputs": [],
   "source": []
  }
 ],
 "metadata": {
  "kernelspec": {
   "display_name": "Python 3 (ipykernel)",
   "language": "python",
   "name": "python3"
  },
  "language_info": {
   "codemirror_mode": {
    "name": "ipython",
    "version": 3
   },
   "file_extension": ".py",
   "mimetype": "text/x-python",
   "name": "python",
   "nbconvert_exporter": "python",
   "pygments_lexer": "ipython3",
   "version": "3.10.13"
  }
 },
 "nbformat": 4,
 "nbformat_minor": 5
}
